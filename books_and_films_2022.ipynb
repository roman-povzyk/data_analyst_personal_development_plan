{
 "cells": [
  {
   "cell_type": "markdown",
   "metadata": {},
   "source": [
    "# Книги та кіно у 2022 році"
   ]
  },
  {
   "cell_type": "markdown",
   "metadata": {},
   "source": [
    "## Книги"
   ]
  },
  {
   "cell_type": "markdown",
   "metadata": {},
   "source": [
    "### Англійською"
   ]
  },
  {
   "cell_type": "markdown",
   "metadata": {},
   "source": [
    "#### Фікшн"
   ]
  },
  {
   "cell_type": "markdown",
   "metadata": {},
   "source": [
    "1. «Second Foundation» by Isaak Asimov (06-01-2022).\n",
    "2. «Foundation's Edge» by Isaak Asimov (13%, from 07-01-2022)."
   ]
  },
  {
   "cell_type": "markdown",
   "metadata": {},
   "source": [
    "#### Нон-фікшн\n",
    "Немає"
   ]
  },
  {
   "cell_type": "markdown",
   "metadata": {},
   "source": [
    "*************************************************"
   ]
  },
  {
   "cell_type": "markdown",
   "metadata": {},
   "source": [
    "## Кіно\n",
    "Немає"
   ]
  },
  {
   "cell_type": "markdown",
   "metadata": {},
   "source": [
    "***************************************"
   ]
  },
  {
   "cell_type": "markdown",
   "metadata": {},
   "source": [
    "## Серіали\n",
    "1. «Foundation» from Apple TV+ | s01e09 (03-01-2022).\n",
    "2. «Foundation» from Apple TV+ | s01e10 (06-01-2022).\n",
    "3. «Cowboy Bebop» from Netflix | s01e06 (07-01-2022)."
   ]
  },
  {
   "cell_type": "code",
   "execution_count": null,
   "metadata": {},
   "outputs": [],
   "source": []
  }
 ],
 "metadata": {
  "kernelspec": {
   "display_name": "Python 3",
   "language": "python",
   "name": "python3"
  },
  "language_info": {
   "codemirror_mode": {
    "name": "ipython",
    "version": 3
   },
   "file_extension": ".py",
   "mimetype": "text/x-python",
   "name": "python",
   "nbconvert_exporter": "python",
   "pygments_lexer": "ipython3",
   "version": "3.7.6"
  }
 },
 "nbformat": 4,
 "nbformat_minor": 4
}
