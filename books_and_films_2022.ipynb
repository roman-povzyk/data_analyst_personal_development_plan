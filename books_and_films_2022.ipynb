{
 "cells": [
  {
   "cell_type": "markdown",
   "metadata": {},
   "source": [
    "# Книги та кіно у 2022 році"
   ]
  },
  {
   "cell_type": "markdown",
   "metadata": {},
   "source": [
    "## Книги"
   ]
  },
  {
   "cell_type": "markdown",
   "metadata": {},
   "source": [
    "#### Фікшн"
   ]
  },
  {
   "cell_type": "markdown",
   "metadata": {},
   "source": [
    "1. «Second Foundation» by Isaak Asimov (06-01-2022).\n",
    "2. «Foundation's Edge» by Isaak Asimov (60%, from 07-01-2022)."
   ]
  },
  {
   "cell_type": "markdown",
   "metadata": {},
   "source": [
    "#### Нон-фікшн\n",
    "1. Decoding Greatness: How the Best in the World Reverse Engineer Success by Ron Friedman (06-02-2022).\n",
    "2. «Smart Leadership» by Mark Miller (08-02-2022)."
   ]
  },
  {
   "cell_type": "markdown",
   "metadata": {},
   "source": [
    "*************************************************"
   ]
  },
  {
   "cell_type": "markdown",
   "metadata": {},
   "source": [
    "## Кіно\n",
    "1. «Munich» from Netflix (29-01-2022).\n",
    "2. «The King's Man» (05-02-2022)\n",
    "2. «Tinder Swindler» from Netflix (12-02-2022)."
   ]
  },
  {
   "cell_type": "markdown",
   "metadata": {},
   "source": [
    "***************************************"
   ]
  },
  {
   "cell_type": "markdown",
   "metadata": {},
   "source": [
    "## Серіали\n",
    "1. «Foundation» from Apple TV+ | s01e09 (03-01-2022).\n",
    "2. «Foundation» from Apple TV+ | s01e10 (06-01-2022).\n",
    "3. «Cowboy Bebop» from Netflix | s01e06 (07-01-2022).\n",
    "4. «Cowboy Bebop» from Netflix | s01e07 (09-01-2022).\n",
    "5. «Cowboy Bebop» from Netflix | s01e08 (15-01-2022).\n",
    "6. «Cowboy Bebop» from Netflix | s01e09 (16-01-2022).\n",
    "7. «Cowboy Bebop» from Netflix | s01e10 (22-01-2022).\n"
   ]
  },
  {
   "cell_type": "code",
   "execution_count": null,
   "metadata": {},
   "outputs": [],
   "source": []
  }
 ],
 "metadata": {
  "kernelspec": {
   "display_name": "Python 3",
   "language": "python",
   "name": "python3"
  },
  "language_info": {
   "codemirror_mode": {
    "name": "ipython",
    "version": 3
   },
   "file_extension": ".py",
   "mimetype": "text/x-python",
   "name": "python",
   "nbconvert_exporter": "python",
   "pygments_lexer": "ipython3",
   "version": "3.7.6"
  }
 },
 "nbformat": 4,
 "nbformat_minor": 4
}
