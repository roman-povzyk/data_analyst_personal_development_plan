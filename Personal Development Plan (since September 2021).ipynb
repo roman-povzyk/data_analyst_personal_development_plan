{
 "cells": [
  {
   "cell_type": "markdown",
   "metadata": {},
   "source": [
    "# Персональний план розвитку на час випробовувального періоду (вересень – листопад 2021)"
   ]
  },
  {
   "cell_type": "markdown",
   "metadata": {},
   "source": [
    "## Курси, які планую пройти:\n",
    "\n",
    "1. «Ігрова аналітика: від основ, до просунутих методів» (https://www.devtodev.com/education/online-course/game-analytics-basics-rus), у процесі (пройшов 50% — 2 модуля з 4)\n",
    "\n",
    "2. «Маркетинг мобільних ігор: базовий курс» (https://www.devtodev.com/education/online-course/mobile-game-marketing-basics)\n",
    "\n",
    "3. «Liveops у проєктах: як оперувати free-to-play проєктами» (https://www.devtodev.com/education/online-course/liveops-in-games)\n",
    "\n",
    "4. «Рекламна монетизація: теорія та практика» (https://www.devtodev.com/education/online-course/ad-monetization)\n",
    "\n",
    "5. «AB-тести в іграх: частина 1» (https://www.devtodev.com/education/online-course/ab-tests-from-a-to-b-part1/)\n",
    "\n",
    "6. «AB-тести в іграх: частина 2» (https://www.devtodev.com/education/online-course/ab-tests-from-a-to-b-part2/)\n",
    "\n",
    "7. «AB-тести в іграх: частина 3» (https://www.devtodev.com/education/online-course/ab-tests-from-a-to-b-part3/)"
   ]
  },
  {
   "cell_type": "markdown",
   "metadata": {},
   "source": [
    "## Книги, які планую прочитати:\n",
    "\n",
    "1. «Сімпсони та їхні математичні секрети», Саймон Синг, у процесі (прочитав 25%)\n",
    "2. «Як брехати з допомогою статистики», Дарелл Хафф\n",
    "3. «Говори на мові діаграм», Джин Желязни\n",
    "4. «Революція, яка змінила те, як ми живемо, працюємо та думаємо», Віктор Майер-Шенбергер, Кеннет Кукьер\n",
    "5. «Приборкання великих даних. Як видобувати знання з масивів інформації з допомогою глибокої аналітики», Білл Френкс\n",
    "6. «Гола статистика. Найцікавіша книга про найнуднішу науку», Чарльз Уїлан\n",
    "7. «Статистика. Базовий курс в коміксах», Грейді Клей"
   ]
  },
  {
   "cell_type": "markdown",
   "metadata": {},
   "source": [
    "## Лекції, які планую прослухати:\n",
    "1. Чому ми весь час говоримо про LTV? у процесі (проглянуто 1:10)\n",
    "2. Способи швидкої перевірки продуктових гіпотез без розробки."
   ]
  },
  {
   "cell_type": "markdown",
   "metadata": {},
   "source": [
    "## Посилання, які потрібно освоїти:\n",
    "\n",
    "1. 100 корисних посилань для ігрових аналітиків (https://www.devtodev.com/education/articles/ru/139/100-poleznih-ssilok-dlya-igrovih-analitikov)"
   ]
  },
  {
   "cell_type": "markdown",
   "metadata": {},
   "source": [
    "# Пройдені курси / прочитані книги / переглянуті лекції"
   ]
  },
  {
   "cell_type": "markdown",
   "metadata": {},
   "source": [
    "## Прочитані книги:\n",
    "1. «Роман з Data Science», Роман Зиков\n",
    "2. «Data Science для кар'єриста», Жаклін Ноліс, Емілі Робінсон\n",
    "3. «Практична статистика для спеціалістів Data Science. 50 важливих понять», Пітер Брюс, Ендрю Брюс\n",
    "4. «Data Science. Інсайдерська інформація для новачків», Кеті О'Ніл, Рейчел Шатт\n",
    "5. «Реальність під питанням. Чому ігри роблять нас краще і як вони можуть змінити світ», Джейн Мак-Гонігал"
   ]
  },
  {
   "cell_type": "markdown",
   "metadata": {},
   "source": [
    "## Пройдені курси:\n",
    "\n",
    "Python:\n",
    "* «Python programming» from Beetroot Academy (https://beetroot.academy/courses/online/python).\n",
    "* «Complete Python Developer in 2021: Zero to Mastery» (https://www.udemy.com/course/complete-python-developer-zero-to-mastery/). \n",
    "* Kaggle: Python (https://www.kaggle.com/learn/python).\n",
    "\n",
    "SQL:\n",
    "* Kaggle: Intro to SQL (https://www.kaggle.com/learn/intro-to-sql).\n",
    "* «The Complete SQL Bootcamp» (https://www.udemy.com/course/the-complete-sql-bootcamp/).\n",
    "* «SQL and PostgreSQL: The Complete Developer's Guide» (https://www.udemy.com/course/sql-and-postgresql/).\n",
    "\n",
    "Power BI:\n",
    "* «Power BI» from Laba (https://l-a-b-a.com/lecture/show/331).\n",
    "\n",
    "Tableau:\n",
    "* «Tableau 10 Essential Training» (https://www.linkedin.com/learning/tableau-10-essential-training).\n",
    "\n",
    "Data Science:\n",
    "* «Complete Machine Learning and Data Science: Zero to Mastery» (https://www.udemy.com/course/complete-machine-learning-and-data-science-zero-to-mastery). \n",
    "* Kaggle: Pandas (https://www.kaggle.com/learn/pandas), Intro to Machine Learning (https://www.kaggle.com/learn/intro-to-machine-learning), Data Visualization (https://www.kaggle.com/learn/data-visualization), Data Cleaning (https://www.kaggle.com/learn/data-cleaning), \n",
    "* Datacamp: Introduction to Data Science in Python, Data Types for Data Science in Python."
   ]
  },
  {
   "cell_type": "markdown",
   "metadata": {},
   "source": [
    "## Поради від Володимира Бутка, Software Engineer at EPAM Systems:\n",
    "1. The Data Science Course 2021: Complete Data Science Bootcamp (https://www.udemy.com/course/the-data-science-course-complete-data-science-bootcamp/)\n",
    "2. Machine Learning A-Z™: Hands-On Python & R In Data Science (https://www.udemy.com/course/machinelearning/)\n",
    "3. Deep Learning A-Z™: Hands-On Artificial Neural Networks (https://www.udemy.com/course/deeplearning/)\n",
    "4. A Complete Guide on TensorFlow 2.0 using Keras API (https://www.udemy.com/course/tensorflow-2/)\n",
    "5. PyTorch for Deep Learning with Python Bootcamp (https://www.udemy.com/course/pytorch-for-deep-learning-with-python-bootcamp/)\n",
    "6. Книга і репозиторій: Hands-on Machine Learning with Scikit-Learn, Keras and TensorFlow (https://github.com/ageron/handson-ml2)\n",
    "7. Podcast SuperDataScience (https://www.superdatascience.com/podcast)\n",
    "8. Towards Data Science (https://towardsdatascience.com/)"
   ]
  },
  {
   "cell_type": "code",
   "execution_count": null,
   "metadata": {},
   "outputs": [],
   "source": []
  }
 ],
 "metadata": {
  "kernelspec": {
   "display_name": "Python 3",
   "language": "python",
   "name": "python3"
  },
  "language_info": {
   "codemirror_mode": {
    "name": "ipython",
    "version": 3
   },
   "file_extension": ".py",
   "mimetype": "text/x-python",
   "name": "python",
   "nbconvert_exporter": "python",
   "pygments_lexer": "ipython3",
   "version": "3.7.6"
  }
 },
 "nbformat": 4,
 "nbformat_minor": 4
}
